{
 "cells": [
  {
   "cell_type": "markdown",
   "id": "f203a2fd",
   "metadata": {},
   "source": [
    "# Exception Handling"
   ]
  },
  {
   "cell_type": "code",
   "execution_count": 5,
   "id": "e82c2ebd",
   "metadata": {},
   "outputs": [
    {
     "name": "stdout",
     "output_type": "stream",
     "text": [
      "Error:could not find file or read data\n"
     ]
    }
   ],
   "source": [
    "try:\n",
    "    f=open('test.text','w')\n",
    "    f.read()\n",
    "except IOError:\n",
    "        print('Error:could not find file or read data')\n",
    "else:\n",
    "            print('Content written successfully')\n",
    "            f.close()"
   ]
  },
  {
   "cell_type": "code",
   "execution_count": 7,
   "id": "5b840d75",
   "metadata": {},
   "outputs": [
    {
     "name": "stdout",
     "output_type": "stream",
     "text": [
      "Content written successfully\n"
     ]
    }
   ],
   "source": [
    "try:\n",
    "    f=open('test file','w')   \n",
    "    f.write('Test write this')   # For writing the data write like this in paranthysis\n",
    "except IOError:\n",
    "    print('Error: unable to write data')\n",
    "else:\n",
    "    print('Content written successfully')"
   ]
  },
  {
   "cell_type": "code",
   "execution_count": 8,
   "id": "ddfdf073",
   "metadata": {},
   "outputs": [
    {
     "name": "stdout",
     "output_type": "stream",
     "text": [
      "Error:unable to write data\n"
     ]
    }
   ],
   "source": [
    "try:\n",
    "    f=open('test file','r')\n",
    "    f.write('Test write this')\n",
    "except:\n",
    "    print('Error:unable to write data')\n",
    "else:\n",
    "    print('Content written successfully')"
   ]
  },
  {
   "cell_type": "code",
   "execution_count": 15,
   "id": "c55a36cd",
   "metadata": {},
   "outputs": [
    {
     "name": "stdout",
     "output_type": "stream",
     "text": [
      "Unable to write data\n"
     ]
    },
    {
     "ename": "UnsupportedOperation",
     "evalue": "not writable",
     "output_type": "error",
     "traceback": [
      "\u001b[1;31m---------------------------------------------------------------------------\u001b[0m",
      "\u001b[1;31mUnsupportedOperation\u001b[0m                      Traceback (most recent call last)",
      "Input \u001b[1;32mIn [15]\u001b[0m, in \u001b[0;36m<cell line: 2>\u001b[1;34m()\u001b[0m\n\u001b[0;32m      2\u001b[0m \u001b[38;5;28;01mtry\u001b[39;00m:\n\u001b[0;32m      3\u001b[0m     f\u001b[38;5;241m=\u001b[39m\u001b[38;5;28mopen\u001b[39m(\u001b[38;5;124m'\u001b[39m\u001b[38;5;124mtest file\u001b[39m\u001b[38;5;124m'\u001b[39m,\u001b[38;5;124m'\u001b[39m\u001b[38;5;124mr\u001b[39m\u001b[38;5;124m'\u001b[39m)  \u001b[38;5;66;03m# We would use finally when we don't want to use except and else.\u001b[39;00m\n\u001b[1;32m----> 4\u001b[0m     \u001b[43mf\u001b[49m\u001b[38;5;241;43m.\u001b[39;49m\u001b[43mwrite\u001b[49m\u001b[43m(\u001b[49m\u001b[38;5;124;43m'\u001b[39;49m\u001b[38;5;124;43mTest write this\u001b[39;49m\u001b[38;5;124;43m'\u001b[39;49m\u001b[43m)\u001b[49m\n\u001b[0;32m      5\u001b[0m \u001b[38;5;28;01mfinally\u001b[39;00m:\n\u001b[0;32m      6\u001b[0m     \u001b[38;5;28mprint\u001b[39m(\u001b[38;5;124m'\u001b[39m\u001b[38;5;124mUnable to write data\u001b[39m\u001b[38;5;124m'\u001b[39m)\n",
      "\u001b[1;31mUnsupportedOperation\u001b[0m: not writable"
     ]
    }
   ],
   "source": [
    "# Using Finally with Exception Handling\n",
    "try:\n",
    "    f=open('test file','r')  # We would use finally when we don't want to use except and else.\n",
    "    f.write('Test write this')\n",
    "finally:\n",
    "    print('Unable to write data')"
   ]
  },
  {
   "cell_type": "code",
   "execution_count": 17,
   "id": "93878c27",
   "metadata": {},
   "outputs": [
    {
     "name": "stdout",
     "output_type": "stream",
     "text": [
      "Please enter an integer:w\n",
      "Looks like you did not enter integer number\n",
      "Finally , I executed\n"
     ]
    }
   ],
   "source": [
    "try:\n",
    "    val=int(input('Please enter an integer:'))\n",
    "except:\n",
    "    print('Looks like you did not enter integer number')\n",
    "finally:\n",
    "    print('Finally , I executed')"
   ]
  },
  {
   "cell_type": "code",
   "execution_count": 1,
   "id": "637f018b",
   "metadata": {},
   "outputs": [
    {
     "name": "stdout",
     "output_type": "stream",
     "text": [
      "Please enter an integer:u\n",
      "Looks like you did not enter integer number\n",
      "Please Try again enter an integer:5\n",
      "Finally , I executed\n"
     ]
    }
   ],
   "source": [
    "try:\n",
    "    val=int(input('Please enter an integer:'))\n",
    "except:\n",
    "    print('Looks like you did not enter integer number')\n",
    "    val=int(input('Please Try again enter an integer:'))\n",
    "finally:\n",
    "    print('Finally , I executed')"
   ]
  }
 ],
 "metadata": {
  "kernelspec": {
   "display_name": "Python 3 (ipykernel)",
   "language": "python",
   "name": "python3"
  },
  "language_info": {
   "codemirror_mode": {
    "name": "ipython",
    "version": 3
   },
   "file_extension": ".py",
   "mimetype": "text/x-python",
   "name": "python",
   "nbconvert_exporter": "python",
   "pygments_lexer": "ipython3",
   "version": "3.9.12"
  }
 },
 "nbformat": 4,
 "nbformat_minor": 5
}
